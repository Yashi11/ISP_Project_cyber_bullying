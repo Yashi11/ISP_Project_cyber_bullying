{
 "cells": [
  {
   "cell_type": "code",
   "execution_count": 1,
   "id": "45f24ae0",
   "metadata": {
    "execution": {
     "iopub.execute_input": "2021-11-02T06:51:46.156103Z",
     "iopub.status.busy": "2021-11-02T06:51:46.154559Z",
     "iopub.status.idle": "2021-11-02T06:51:47.842470Z",
     "shell.execute_reply": "2021-11-02T06:51:47.841397Z",
     "shell.execute_reply.started": "2021-11-02T05:35:43.286798Z"
    },
    "id": "b068286a",
    "outputId": "81f8ff19-24e0-4e06-bd71-155e16949651",
    "papermill": {
     "duration": 1.727719,
     "end_time": "2021-11-02T06:51:47.842645",
     "exception": false,
     "start_time": "2021-11-02T06:51:46.114926",
     "status": "completed"
    },
    "tags": []
   },
   "outputs": [],
   "source": [
    "import numpy as np\n",
    "import pandas as pd\n",
    "import matplotlib.pyplot as plt\n",
    "url = 'https://raw.githubusercontent.com/adwait1291/try/main/Suspicious%20Communication%20on%20Social%20Platforms.csv'\n",
    "df = pd.read_csv(url)\n",
    "df.head()\n",
    "import nltk"
   ]
  },
  {
   "cell_type": "code",
   "execution_count": 2,
   "id": "98ff8d6b",
   "metadata": {
    "execution": {
     "iopub.execute_input": "2021-11-02T06:51:47.921221Z",
     "iopub.status.busy": "2021-11-02T06:51:47.920010Z",
     "iopub.status.idle": "2021-11-02T06:51:47.924041Z",
     "shell.execute_reply": "2021-11-02T06:51:47.923574Z",
     "shell.execute_reply.started": "2021-11-02T05:24:41.47744Z"
    },
    "papermill": {
     "duration": 0.044974,
     "end_time": "2021-11-02T06:51:47.924156",
     "exception": false,
     "start_time": "2021-11-02T06:51:47.879182",
     "status": "completed"
    },
    "tags": []
   },
   "outputs": [
    {
     "data": {
      "text/plain": [
       "'3.2.4'"
      ]
     },
     "execution_count": 2,
     "metadata": {},
     "output_type": "execute_result"
    }
   ],
   "source": [
    "nltk.__version__"
   ]
  },
  {
   "cell_type": "markdown",
   "id": "84a03faf",
   "metadata": {
    "papermill": {
     "duration": 0.036115,
     "end_time": "2021-11-02T06:51:47.994959",
     "exception": false,
     "start_time": "2021-11-02T06:51:47.958844",
     "status": "completed"
    },
    "tags": []
   },
   "source": [
    "# Preprocessing"
   ]
  },
  {
   "cell_type": "code",
   "execution_count": 3,
   "id": "303fe003",
   "metadata": {
    "execution": {
     "iopub.execute_input": "2021-11-02T06:51:48.105344Z",
     "iopub.status.busy": "2021-11-02T06:51:48.104701Z",
     "iopub.status.idle": "2021-11-02T06:51:48.107273Z",
     "shell.execute_reply": "2021-11-02T06:51:48.107668Z",
     "shell.execute_reply.started": "2021-11-02T05:24:42.477628Z"
    },
    "id": "5966c269",
    "outputId": "eb1bc894-6b23-450a-a1ef-0e432c4140ce",
    "papermill": {
     "duration": 0.053601,
     "end_time": "2021-11-02T06:51:48.107828",
     "exception": false,
     "start_time": "2021-11-02T06:51:48.054227",
     "status": "completed"
    },
    "tags": []
   },
   "outputs": [
    {
     "data": {
      "text/plain": [
       "(20001, 2)"
      ]
     },
     "execution_count": 3,
     "metadata": {},
     "output_type": "execute_result"
    }
   ],
   "source": [
    "df.shape"
   ]
  },
  {
   "cell_type": "code",
   "execution_count": 4,
   "id": "aa83d57c",
   "metadata": {
    "execution": {
     "iopub.execute_input": "2021-11-02T06:51:48.187490Z",
     "iopub.status.busy": "2021-11-02T06:51:48.186910Z",
     "iopub.status.idle": "2021-11-02T06:51:48.193559Z",
     "shell.execute_reply": "2021-11-02T06:51:48.193117Z",
     "shell.execute_reply.started": "2021-11-02T05:25:12.557871Z"
    },
    "id": "1886ab31",
    "papermill": {
     "duration": 0.051673,
     "end_time": "2021-11-02T06:51:48.193671",
     "exception": false,
     "start_time": "2021-11-02T06:51:48.141998",
     "status": "completed"
    },
    "tags": []
   },
   "outputs": [],
   "source": [
    "df=df[pd.to_numeric(df['tagging'], errors='coerce').notnull()]"
   ]
  },
  {
   "cell_type": "code",
   "execution_count": 5,
   "id": "bfdfccef",
   "metadata": {
    "execution": {
     "iopub.execute_input": "2021-11-02T06:51:48.318114Z",
     "iopub.status.busy": "2021-11-02T06:51:48.317435Z",
     "iopub.status.idle": "2021-11-02T06:51:48.322405Z",
     "shell.execute_reply": "2021-11-02T06:51:48.322834Z",
     "shell.execute_reply.started": "2021-11-02T05:25:14.997686Z"
    },
    "id": "fab0a1d2",
    "papermill": {
     "duration": 0.094702,
     "end_time": "2021-11-02T06:51:48.322968",
     "exception": false,
     "start_time": "2021-11-02T06:51:48.228266",
     "status": "completed"
    },
    "tags": []
   },
   "outputs": [],
   "source": [
    "df = df.dropna(axis=0)"
   ]
  },
  {
   "cell_type": "code",
   "execution_count": 6,
   "id": "1e366f88",
   "metadata": {
    "execution": {
     "iopub.execute_input": "2021-11-02T06:51:48.399637Z",
     "iopub.status.busy": "2021-11-02T06:51:48.399006Z",
     "iopub.status.idle": "2021-11-02T06:51:48.401490Z",
     "shell.execute_reply": "2021-11-02T06:51:48.401957Z",
     "shell.execute_reply.started": "2021-11-02T05:25:20.478493Z"
    },
    "id": "862a3350",
    "outputId": "f2219fbb-3c79-4541-b797-a8b3dfe9fbb8",
    "papermill": {
     "duration": 0.042057,
     "end_time": "2021-11-02T06:51:48.402085",
     "exception": false,
     "start_time": "2021-11-02T06:51:48.360028",
     "status": "completed"
    },
    "tags": []
   },
   "outputs": [
    {
     "data": {
      "text/plain": [
       "(20001, 2)"
      ]
     },
     "execution_count": 6,
     "metadata": {},
     "output_type": "execute_result"
    }
   ],
   "source": [
    "df.shape"
   ]
  },
  {
   "cell_type": "code",
   "execution_count": 7,
   "id": "7f76f721",
   "metadata": {
    "execution": {
     "iopub.execute_input": "2021-11-02T06:51:48.476905Z",
     "iopub.status.busy": "2021-11-02T06:51:48.476352Z",
     "iopub.status.idle": "2021-11-02T06:51:48.479711Z",
     "shell.execute_reply": "2021-11-02T06:51:48.479297Z",
     "shell.execute_reply.started": "2021-11-02T05:25:22.957824Z"
    },
    "id": "cd174566",
    "papermill": {
     "duration": 0.043119,
     "end_time": "2021-11-02T06:51:48.479848",
     "exception": false,
     "start_time": "2021-11-02T06:51:48.436729",
     "status": "completed"
    },
    "tags": []
   },
   "outputs": [],
   "source": [
    "import string\n",
    "from nltk import pos_tag\n",
    "def tokenize_remove_punctuation(text):\n",
    "  clean_text = []\n",
    "  text = text.split(\" \")\n",
    "  for word in text:\n",
    "    word = list(word)\n",
    "    new_word = []\n",
    "    for c in word:\n",
    "      if c not in string.punctuation:\n",
    "        new_word.append(c)\n",
    "      word = \"\".join(new_word)\n",
    "    clean_text.append(word)\n",
    "  return clean_text\n"
   ]
  },
  {
   "cell_type": "code",
   "execution_count": 8,
   "id": "c78220d6",
   "metadata": {
    "execution": {
     "iopub.execute_input": "2021-11-02T06:51:48.553070Z",
     "iopub.status.busy": "2021-11-02T06:51:48.552428Z",
     "iopub.status.idle": "2021-11-02T06:51:48.556922Z",
     "shell.execute_reply": "2021-11-02T06:51:48.556465Z",
     "shell.execute_reply.started": "2021-11-02T05:25:26.078011Z"
    },
    "id": "b8d8a2b8",
    "outputId": "943e5346-cf7b-44ba-fa0a-fa0af213ada1",
    "papermill": {
     "duration": 0.042604,
     "end_time": "2021-11-02T06:51:48.557031",
     "exception": false,
     "start_time": "2021-11-02T06:51:48.514427",
     "status": "completed"
    },
    "tags": []
   },
   "outputs": [
    {
     "data": {
      "text/plain": [
       "['hello',\n",
       " 'anyone',\n",
       " 'reading',\n",
       " 'wt',\n",
       " 'is',\n",
       " 'the',\n",
       " 'name',\n",
       " 'of',\n",
       " 'am',\n",
       " 'in',\n",
       " 'that',\n",
       " 'this',\n",
       " [],\n",
       " '']"
      ]
     },
     "execution_count": 8,
     "metadata": {},
     "output_type": "execute_result"
    }
   ],
   "source": [
    "trial_text = tokenize_remove_punctuation(\"hello @anyone reading? wt is the name of am in that this  ??!@\")\n",
    "trial_text"
   ]
  },
  {
   "cell_type": "code",
   "execution_count": 9,
   "id": "d908dece",
   "metadata": {
    "execution": {
     "iopub.execute_input": "2021-11-02T06:51:48.637076Z",
     "iopub.status.busy": "2021-11-02T06:51:48.636529Z",
     "iopub.status.idle": "2021-11-02T06:51:48.910201Z",
     "shell.execute_reply": "2021-11-02T06:51:48.910996Z",
     "shell.execute_reply.started": "2021-11-02T05:25:27.558469Z"
    },
    "id": "8e7a9345",
    "outputId": "c3d67bb1-8341-4614-e84b-b2d4ef5d3da3",
    "papermill": {
     "duration": 0.319081,
     "end_time": "2021-11-02T06:51:48.911155",
     "exception": false,
     "start_time": "2021-11-02T06:51:48.592074",
     "status": "completed"
    },
    "tags": []
   },
   "outputs": [
    {
     "name": "stdout",
     "output_type": "stream",
     "text": [
      "[nltk_data] Downloading package stopwords to /usr/share/nltk_data...\n",
      "[nltk_data]   Unzipping corpora/stopwords.zip.\n"
     ]
    },
    {
     "data": {
      "text/plain": [
       "True"
      ]
     },
     "execution_count": 9,
     "metadata": {},
     "output_type": "execute_result"
    }
   ],
   "source": [
    "import nltk\n",
    "nltk.download('stopwords')"
   ]
  },
  {
   "cell_type": "code",
   "execution_count": 10,
   "id": "b2302e14",
   "metadata": {
    "execution": {
     "iopub.execute_input": "2021-11-02T06:51:48.988174Z",
     "iopub.status.busy": "2021-11-02T06:51:48.987623Z",
     "iopub.status.idle": "2021-11-02T06:51:48.992329Z",
     "shell.execute_reply": "2021-11-02T06:51:48.991894Z",
     "shell.execute_reply.started": "2021-11-02T05:25:29.212878Z"
    },
    "id": "015b0464",
    "papermill": {
     "duration": 0.045183,
     "end_time": "2021-11-02T06:51:48.992434",
     "exception": false,
     "start_time": "2021-11-02T06:51:48.947251",
     "status": "completed"
    },
    "tags": []
   },
   "outputs": [],
   "source": [
    "stopwords = nltk.corpus.stopwords.words('english')\n",
    "def remove_stopwords(text):\n",
    "  clean_text = []\n",
    "  for word in text:\n",
    "    if word not in stopwords:\n",
    "      clean_text.append(word)\n",
    "  return clean_text"
   ]
  },
  {
   "cell_type": "code",
   "execution_count": 11,
   "id": "3691eeeb",
   "metadata": {
    "execution": {
     "iopub.execute_input": "2021-11-02T06:51:49.071075Z",
     "iopub.status.busy": "2021-11-02T06:51:49.070106Z",
     "iopub.status.idle": "2021-11-02T06:51:49.073356Z",
     "shell.execute_reply": "2021-11-02T06:51:49.073725Z",
     "shell.execute_reply.started": "2021-11-02T05:25:31.438203Z"
    },
    "id": "02627d63",
    "outputId": "eae13a40-c58c-49fa-e329-37d3aec3d2af",
    "papermill": {
     "duration": 0.044933,
     "end_time": "2021-11-02T06:51:49.073896",
     "exception": false,
     "start_time": "2021-11-02T06:51:49.028963",
     "status": "completed"
    },
    "tags": []
   },
   "outputs": [
    {
     "data": {
      "text/plain": [
       "['hello', 'anyone', 'reading', 'wt', 'name', [], '']"
      ]
     },
     "execution_count": 11,
     "metadata": {},
     "output_type": "execute_result"
    }
   ],
   "source": [
    "remove_stopwords(trial_text)"
   ]
  },
  {
   "cell_type": "code",
   "execution_count": 12,
   "id": "6bde0f00",
   "metadata": {
    "execution": {
     "iopub.execute_input": "2021-11-02T06:51:49.150679Z",
     "iopub.status.busy": "2021-11-02T06:51:49.149967Z",
     "iopub.status.idle": "2021-11-02T06:51:49.152648Z",
     "shell.execute_reply": "2021-11-02T06:51:49.152227Z",
     "shell.execute_reply.started": "2021-11-02T05:25:32.288123Z"
    },
    "id": "54b6521c",
    "papermill": {
     "duration": 0.042718,
     "end_time": "2021-11-02T06:51:49.152749",
     "exception": false,
     "start_time": "2021-11-02T06:51:49.110031",
     "status": "completed"
    },
    "tags": []
   },
   "outputs": [],
   "source": [
    "def pos_tagging(text):\n",
    "    try:\n",
    "        tagged = nltk.pos_tag(text)\n",
    "        return tagged\n",
    "    except Excepton as e:\n",
    "        print(e)"
   ]
  },
  {
   "cell_type": "code",
   "execution_count": 13,
   "id": "ea6e476e",
   "metadata": {
    "execution": {
     "iopub.execute_input": "2021-11-02T06:51:49.229931Z",
     "iopub.status.busy": "2021-11-02T06:51:49.229102Z",
     "iopub.status.idle": "2021-11-02T06:51:49.230975Z",
     "shell.execute_reply": "2021-11-02T06:51:49.231391Z",
     "shell.execute_reply.started": "2021-11-02T05:25:32.927846Z"
    },
    "id": "0dc9b7a0",
    "papermill": {
     "duration": 0.04297,
     "end_time": "2021-11-02T06:51:49.231516",
     "exception": false,
     "start_time": "2021-11-02T06:51:49.188546",
     "status": "completed"
    },
    "tags": []
   },
   "outputs": [],
   "source": [
    "from nltk.corpus import wordnet\n",
    "def get_wordnet(pos_tag):\n",
    "  if pos_tag.startswith('J'):\n",
    "    return wordnet.ADJ\n",
    "  elif pos_tag.startswith('V'):\n",
    "    return wordnet.VERB\n",
    "  elif pos_tag.startswith('N'):\n",
    "    return wordnet.NOUN\n",
    "  elif pos_tag.startswith('R'):\n",
    "    return wordnet.ADV\n",
    "  else:\n",
    "    return wordnet.NOUN"
   ]
  },
  {
   "cell_type": "code",
   "execution_count": 14,
   "id": "316013ad",
   "metadata": {
    "execution": {
     "iopub.execute_input": "2021-11-02T06:51:49.309277Z",
     "iopub.status.busy": "2021-11-02T06:51:49.308738Z",
     "iopub.status.idle": "2021-11-02T06:51:49.312402Z",
     "shell.execute_reply": "2021-11-02T06:51:49.311941Z",
     "shell.execute_reply.started": "2021-11-02T05:25:33.687784Z"
    },
    "id": "dab1ca50",
    "papermill": {
     "duration": 0.04553,
     "end_time": "2021-11-02T06:51:49.312511",
     "exception": false,
     "start_time": "2021-11-02T06:51:49.266981",
     "status": "completed"
    },
    "tags": []
   },
   "outputs": [],
   "source": [
    "from nltk.stem import WordNetLemmatizer\n",
    "def clean_text(text):\n",
    "  text = str(text)\n",
    "  #Converting text to lower-case\n",
    "  text = text.lower()\n",
    "  #tokenize and remove punctuations from the text\n",
    "  text = tokenize_remove_punctuation(text)\n",
    "  #remove words containing numericals\n",
    "  text = [word for word in text if not any(c.isdigit() for c in word)]\n",
    "  #remove stopwords\n",
    "  text = remove_stopwords(text)\n",
    "  #remove empty tokens\n",
    "  text = [ t for t in text if len(t) > 0]\n",
    "  #pos tagging\n",
    "  pos_tags = pos_tagging(text)\n",
    "  #Lemmatize text\n",
    "  text = [WordNetLemmatizer().lemmatize(t[0],get_wordnet(t[1])) for t in pos_tags]\n",
    "  #remove words with only one letter\n",
    "  text = [ t for t in text if len(t)>1]\n",
    "  #join all words\n",
    "  text = \" \".join(text)\n",
    "  return text"
   ]
  },
  {
   "cell_type": "code",
   "execution_count": 15,
   "id": "b0136190",
   "metadata": {
    "execution": {
     "iopub.execute_input": "2021-11-02T06:51:49.424428Z",
     "iopub.status.busy": "2021-11-02T06:51:49.423340Z",
     "iopub.status.idle": "2021-11-02T06:51:49.506760Z",
     "shell.execute_reply": "2021-11-02T06:51:49.507428Z",
     "shell.execute_reply.started": "2021-11-02T05:25:34.577716Z"
    },
    "id": "6d3048bc",
    "outputId": "dd802d64-0420-4033-ab54-622eaebbe9a5",
    "papermill": {
     "duration": 0.154909,
     "end_time": "2021-11-02T06:51:49.507632",
     "exception": false,
     "start_time": "2021-11-02T06:51:49.352723",
     "status": "completed"
    },
    "tags": []
   },
   "outputs": [
    {
     "name": "stdout",
     "output_type": "stream",
     "text": [
      "[nltk_data] Downloading package averaged_perceptron_tagger to\n",
      "[nltk_data]     /usr/share/nltk_data...\n",
      "[nltk_data]   Package averaged_perceptron_tagger is already up-to-\n",
      "[nltk_data]       date!\n",
      "[nltk_data] Downloading package wordnet to /usr/share/nltk_data...\n",
      "[nltk_data]   Package wordnet is already up-to-date!\n"
     ]
    },
    {
     "data": {
      "text/plain": [
       "True"
      ]
     },
     "execution_count": 15,
     "metadata": {},
     "output_type": "execute_result"
    }
   ],
   "source": [
    "nltk.download('averaged_perceptron_tagger')\n",
    "nltk.download('wordnet')"
   ]
  },
  {
   "cell_type": "code",
   "execution_count": 16,
   "id": "512310c3",
   "metadata": {
    "execution": {
     "iopub.execute_input": "2021-11-02T06:51:49.640481Z",
     "iopub.status.busy": "2021-11-02T06:51:49.631977Z",
     "iopub.status.idle": "2021-11-02T06:51:51.659139Z",
     "shell.execute_reply": "2021-11-02T06:51:51.658494Z",
     "shell.execute_reply.started": "2021-11-02T05:25:35.477693Z"
    },
    "id": "fd56b980",
    "outputId": "b8385a68-21b4-4547-fbf7-6b476e1e36c5",
    "papermill": {
     "duration": 2.092119,
     "end_time": "2021-11-02T06:51:51.659277",
     "exception": false,
     "start_time": "2021-11-02T06:51:49.567158",
     "status": "completed"
    },
    "tags": []
   },
   "outputs": [
    {
     "data": {
      "text/plain": [
       "'name cat'"
      ]
     },
     "execution_count": 16,
     "metadata": {},
     "output_type": "execute_result"
    }
   ],
   "source": [
    "clean_text(\"What is y0ur name? THis is a cat!! 12?\")"
   ]
  },
  {
   "cell_type": "code",
   "execution_count": 17,
   "id": "eb5225e5",
   "metadata": {
    "execution": {
     "iopub.execute_input": "2021-11-02T06:51:51.741050Z",
     "iopub.status.busy": "2021-11-02T06:51:51.740274Z",
     "iopub.status.idle": "2021-11-02T06:51:51.942047Z",
     "shell.execute_reply": "2021-11-02T06:51:51.941561Z",
     "shell.execute_reply.started": "2021-11-02T05:25:52.359019Z"
    },
    "id": "8aa631fa",
    "outputId": "150fdb63-f91d-46a6-e012-f83d4f533cfc",
    "papermill": {
     "duration": 0.245813,
     "end_time": "2021-11-02T06:51:51.942174",
     "exception": false,
     "start_time": "2021-11-02T06:51:51.696361",
     "status": "completed"
    },
    "tags": []
   },
   "outputs": [
    {
     "data": {
      "text/plain": [
       "<AxesSubplot:title={'center':'Ratio of observations'}>"
      ]
     },
     "execution_count": 17,
     "metadata": {},
     "output_type": "execute_result"
    },
    {
     "data": {
      "image/png": "[encoded data removed]",
      "text/plain": [
       "<Figure size 432x288 with 1 Axes>"
      ]
     },
     "metadata": {
      "needs_background": "light"
     },
     "output_type": "display_data"
    }
   ],
   "source": [
    "df['tagging'].value_counts(normalize=True).plot(kind='bar', title='Ratio of observations')"
   ]
  },
  {
   "cell_type": "code",
   "execution_count": 18,
   "id": "10fe7f04",
   "metadata": {
    "execution": {
     "iopub.execute_input": "2021-11-02T06:51:52.047605Z",
     "iopub.status.busy": "2021-11-02T06:51:52.046025Z",
     "iopub.status.idle": "2021-11-02T06:51:52.048203Z",
     "shell.execute_reply": "2021-11-02T06:51:52.048607Z",
     "shell.execute_reply.started": "2021-11-02T05:26:20.923564Z"
    },
    "id": "e6d9476f",
    "papermill": {
     "duration": 0.069014,
     "end_time": "2021-11-02T06:51:52.048741",
     "exception": false,
     "start_time": "2021-11-02T06:51:51.979727",
     "status": "completed"
    },
    "tags": []
   },
   "outputs": [],
   "source": [
    "df['tagging']=df['tagging'].astype(str).astype(int)"
   ]
  },
  {
   "cell_type": "code",
   "execution_count": 19,
   "id": "6088b9e4",
   "metadata": {
    "execution": {
     "iopub.execute_input": "2021-11-02T06:51:52.136826Z",
     "iopub.status.busy": "2021-11-02T06:51:52.136004Z",
     "iopub.status.idle": "2021-11-02T06:51:52.141770Z",
     "shell.execute_reply": "2021-11-02T06:51:52.141306Z",
     "shell.execute_reply.started": "2021-11-02T05:26:22.997924Z"
    },
    "id": "4c64a47a",
    "outputId": "28bbcd98-8c9f-42c2-d625-f7653fc568c1",
    "papermill": {
     "duration": 0.055722,
     "end_time": "2021-11-02T06:51:52.141917",
     "exception": false,
     "start_time": "2021-11-02T06:51:52.086195",
     "status": "completed"
    },
    "tags": []
   },
   "outputs": [
    {
     "name": "stdout",
     "output_type": "stream",
     "text": [
      "<class 'pandas.core.frame.DataFrame'>\n",
      "Int64Index: 20001 entries, 0 to 20000\n",
      "Data columns (total 2 columns):\n",
      " #   Column    Non-Null Count  Dtype \n",
      "---  ------    --------------  ----- \n",
      " 0   comments  20001 non-null  object\n",
      " 1   tagging   20001 non-null  int64 \n",
      "dtypes: int64(1), object(1)\n",
      "memory usage: 468.8+ KB\n"
     ]
    }
   ],
   "source": [
    "df.info()"
   ]
  },
  {
   "cell_type": "code",
   "execution_count": 20,
   "id": "4013e42e",
   "metadata": {
    "execution": {
     "iopub.execute_input": "2021-11-02T06:51:52.221949Z",
     "iopub.status.busy": "2021-11-02T06:51:52.221407Z",
     "iopub.status.idle": "2021-11-02T06:51:52.226906Z",
     "shell.execute_reply": "2021-11-02T06:51:52.226402Z",
     "shell.execute_reply.started": "2021-11-02T05:26:27.397534Z"
    },
    "id": "37a834b5",
    "outputId": "26a3cfbd-7483-4e0d-b28f-c096b606e35e",
    "papermill": {
     "duration": 0.046626,
     "end_time": "2021-11-02T06:51:52.227019",
     "exception": false,
     "start_time": "2021-11-02T06:51:52.180393",
     "status": "completed"
    },
    "tags": []
   },
   "outputs": [
    {
     "data": {
      "text/plain": [
       "(20001, 2)"
      ]
     },
     "execution_count": 20,
     "metadata": {},
     "output_type": "execute_result"
    }
   ],
   "source": [
    "df.shape"
   ]
  },
  {
   "cell_type": "code",
   "execution_count": 21,
   "id": "f8aaf38d",
   "metadata": {
    "execution": {
     "iopub.execute_input": "2021-11-02T06:51:52.307243Z",
     "iopub.status.busy": "2021-11-02T06:51:52.306448Z",
     "iopub.status.idle": "2021-11-02T06:51:52.308455Z",
     "shell.execute_reply": "2021-11-02T06:51:52.308845Z",
     "shell.execute_reply.started": "2021-11-02T05:26:29.278172Z"
    },
    "id": "26c5d39d",
    "papermill": {
     "duration": 0.044086,
     "end_time": "2021-11-02T06:51:52.308976",
     "exception": false,
     "start_time": "2021-11-02T06:51:52.264890",
     "status": "completed"
    },
    "tags": []
   },
   "outputs": [],
   "source": [
    "df.reset_index(inplace = True, drop = True)"
   ]
  },
  {
   "cell_type": "code",
   "execution_count": 22,
   "id": "5f94056a",
   "metadata": {
    "execution": {
     "iopub.execute_input": "2021-11-02T06:51:52.391592Z",
     "iopub.status.busy": "2021-11-02T06:51:52.389603Z",
     "iopub.status.idle": "2021-11-02T06:52:06.587456Z",
     "shell.execute_reply": "2021-11-02T06:52:06.586528Z",
     "shell.execute_reply.started": "2021-11-02T05:26:59.998205Z"
    },
    "id": "c7d12c9b",
    "papermill": {
     "duration": 14.240693,
     "end_time": "2021-11-02T06:52:06.587636",
     "exception": false,
     "start_time": "2021-11-02T06:51:52.346943",
     "status": "completed"
    },
    "tags": []
   },
   "outputs": [],
   "source": [
    "df['Processed_Comment'] = df['comments'].map(clean_text)"
   ]
  },
  {
   "cell_type": "code",
   "execution_count": 23,
   "id": "37e2e999",
   "metadata": {
    "execution": {
     "iopub.execute_input": "2021-11-02T06:52:06.674337Z",
     "iopub.status.busy": "2021-11-02T06:52:06.672193Z",
     "iopub.status.idle": "2021-11-02T06:52:06.677411Z",
     "shell.execute_reply": "2021-11-02T06:52:06.676994Z",
     "shell.execute_reply.started": "2021-11-02T05:27:30.862805Z"
    },
    "id": "86547deb",
    "papermill": {
     "duration": 0.050939,
     "end_time": "2021-11-02T06:52:06.677522",
     "exception": false,
     "start_time": "2021-11-02T06:52:06.626583",
     "status": "completed"
    },
    "tags": []
   },
   "outputs": [],
   "source": [
    "#Splitting dataset for training and testing(80:20)\n",
    "from sklearn.model_selection import train_test_split\n",
    "X_train, X_test, y_train, y_test = train_test_split(df['Processed_Comment'], \n",
    "                                                    df['tagging'], \n",
    "                                                    random_state=42,test_size=0.20)\n"
   ]
  },
  {
   "cell_type": "code",
   "execution_count": 24,
   "id": "4afa7b88",
   "metadata": {
    "execution": {
     "iopub.execute_input": "2021-11-02T06:52:06.792986Z",
     "iopub.status.busy": "2021-11-02T06:52:06.778618Z",
     "iopub.status.idle": "2021-11-02T06:52:06.998880Z",
     "shell.execute_reply": "2021-11-02T06:52:06.998398Z",
     "shell.execute_reply.started": "2021-11-02T05:27:32.483109Z"
    },
    "id": "d2003ba5",
    "papermill": {
     "duration": 0.283036,
     "end_time": "2021-11-02T06:52:06.999012",
     "exception": false,
     "start_time": "2021-11-02T06:52:06.715976",
     "status": "completed"
    },
    "tags": []
   },
   "outputs": [],
   "source": [
    "#Creating a bag of words from training data\n",
    "from sklearn.feature_extraction.text import CountVectorizer, TfidfVectorizer\n",
    "count_vector = CountVectorizer()\n",
    "X_train = count_vector.fit_transform(X_train)\n",
    "X_test = count_vector.transform(X_test)"
   ]
  },
  {
   "cell_type": "code",
   "execution_count": 25,
   "id": "c1d30545",
   "metadata": {
    "execution": {
     "iopub.execute_input": "2021-11-02T06:52:07.081140Z",
     "iopub.status.busy": "2021-11-02T06:52:07.080383Z",
     "iopub.status.idle": "2021-11-02T06:52:07.083092Z",
     "shell.execute_reply": "2021-11-02T06:52:07.083579Z",
     "shell.execute_reply.started": "2021-11-02T05:27:34.797946Z"
    },
    "id": "c3044cde",
    "outputId": "21d71344-621a-4fa5-efaf-f696152289d7",
    "papermill": {
     "duration": 0.045243,
     "end_time": "2021-11-02T06:52:07.083708",
     "exception": false,
     "start_time": "2021-11-02T06:52:07.038465",
     "status": "completed"
    },
    "tags": []
   },
   "outputs": [
    {
     "data": {
      "text/plain": [
       "13816"
      ]
     },
     "execution_count": 25,
     "metadata": {},
     "output_type": "execute_result"
    }
   ],
   "source": [
    "len(count_vector.vocabulary_)"
   ]
  },
  {
   "cell_type": "code",
   "execution_count": 26,
   "id": "1acbb188",
   "metadata": {
    "execution": {
     "iopub.execute_input": "2021-11-02T06:52:07.164515Z",
     "iopub.status.busy": "2021-11-02T06:52:07.164001Z",
     "iopub.status.idle": "2021-11-02T06:52:07.167250Z",
     "shell.execute_reply": "2021-11-02T06:52:07.167648Z",
     "shell.execute_reply.started": "2021-11-02T05:27:36.077877Z"
    },
    "id": "b392ac95",
    "papermill": {
     "duration": 0.045352,
     "end_time": "2021-11-02T06:52:07.167797",
     "exception": false,
     "start_time": "2021-11-02T06:52:07.122445",
     "status": "completed"
    },
    "tags": []
   },
   "outputs": [],
   "source": [
    "from sklearn.metrics import f1_score, accuracy_score, precision_score, recall_score\n",
    "from sklearn.metrics import confusion_matrix\n",
    "data =[]"
   ]
  },
  {
   "cell_type": "code",
   "execution_count": 27,
   "id": "ef51552c",
   "metadata": {
    "execution": {
     "iopub.execute_input": "2021-11-02T06:52:07.249217Z",
     "iopub.status.busy": "2021-11-02T06:52:07.248609Z",
     "iopub.status.idle": "2021-11-02T06:52:07.297536Z",
     "shell.execute_reply": "2021-11-02T06:52:07.297076Z",
     "shell.execute_reply.started": "2021-11-02T05:27:39.078166Z"
    },
    "id": "U8_ssXPBAYrO",
    "papermill": {
     "duration": 0.091645,
     "end_time": "2021-11-02T06:52:07.297662",
     "exception": false,
     "start_time": "2021-11-02T06:52:07.206017",
     "status": "completed"
    },
    "tags": []
   },
   "outputs": [],
   "source": [
    "from sklearn.neighbors import KNeighborsClassifier  \n",
    "from sklearn.linear_model import LogisticRegression\n",
    "from sklearn.naive_bayes import MultinomialNB\n",
    "from sklearn.svm import LinearSVC\n",
    "from sklearn.model_selection import GridSearchCV"
   ]
  },
  {
   "cell_type": "code",
   "execution_count": 28,
   "id": "d63231d0",
   "metadata": {
    "execution": {
     "iopub.execute_input": "2021-11-02T06:52:07.392739Z",
     "iopub.status.busy": "2021-11-02T06:52:07.391925Z",
     "iopub.status.idle": "2021-11-02T06:52:07.394315Z",
     "shell.execute_reply": "2021-11-02T06:52:07.393899Z",
     "shell.execute_reply.started": "2021-11-02T05:27:42.557809Z"
    },
    "id": "ylxmP5K8AQwO",
    "papermill": {
     "duration": 0.057873,
     "end_time": "2021-11-02T06:52:07.394425",
     "exception": false,
     "start_time": "2021-11-02T06:52:07.336552",
     "status": "completed"
    },
    "tags": []
   },
   "outputs": [],
   "source": [
    "model_params = {\n",
    "    'LinearSVC': {\n",
    "        'model': LinearSVC(max_iter=1000000,random_state=42),\n",
    "        'params' : {\n",
    "            'C': [0.1,1,5,10,20],\n",
    "        }  \n",
    "    },\n",
    "    'MultinomialNB': {\n",
    "        'model': MultinomialNB(),\n",
    "        'params' : {\n",
    "            'alpha': np.linspace(0.5, 1.5, 6),\n",
    "            'fit_prior': [True, False],\n",
    "        }\n",
    "    },\n",
    "    'logistic_regression' : {\n",
    "        'model': LogisticRegression(random_state=42, multi_class='ovr',max_iter=1000000),\n",
    "        'params': {\n",
    "            'C': [1,5,10],\n",
    "            'solver': ['newton-cg', 'lbfgs', 'liblinear'],\n",
    "        }\n",
    "    },\n",
    "    'KNeighborsClassifier': {\n",
    "        'model': KNeighborsClassifier(p=2 ),\n",
    "        'params' : {\n",
    "            'n_neighbors': [5,9,11,23],\n",
    "              'weights' : ['uniform', 'distance'],\n",
    "              'metric' : ['euclidean', 'manhattan', 'minkowski'],\n",
    "        }\n",
    "    }\n",
    "}"
   ]
  },
  {
   "cell_type": "code",
   "execution_count": 29,
   "id": "da62b253",
   "metadata": {
    "execution": {
     "iopub.execute_input": "2021-11-02T06:52:07.477472Z",
     "iopub.status.busy": "2021-11-02T06:52:07.476653Z",
     "iopub.status.idle": "2021-11-02T06:57:03.453143Z",
     "shell.execute_reply": "2021-11-02T06:57:03.453693Z"
    },
    "id": "kgVpKki-A9Ck",
    "papermill": {
     "duration": 296.020536,
     "end_time": "2021-11-02T06:57:03.453918",
     "exception": false,
     "start_time": "2021-11-02T06:52:07.433382",
     "status": "completed"
    },
    "tags": []
   },
   "outputs": [
    {
     "data": {
      "text/html": [
       "<div>\n",
       "<style scoped>\n",
       "    .dataframe tbody tr th:only-of-type {\n",
       "        vertical-align: middle;\n",
       "    }\n",
       "\n",
       "    .dataframe tbody tr th {\n",
       "        vertical-align: top;\n",
       "    }\n",
       "\n",
       "    .dataframe thead th {\n",
       "        text-align: right;\n",
       "    }\n",
       "</style>\n",
       "<table border=\"1\" class=\"dataframe\">\n",
       "  <thead>\n",
       "    <tr style=\"text-align: right;\">\n",
       "      <th></th>\n",
       "      <th>model</th>\n",
       "      <th>best_score</th>\n",
       "      <th>best_params</th>\n",
       "    </tr>\n",
       "  </thead>\n",
       "  <tbody>\n",
       "    <tr>\n",
       "      <th>0</th>\n",
       "      <td>LinearSVC</td>\n",
       "      <td>0.830562</td>\n",
       "      <td>{'C': 1}</td>\n",
       "    </tr>\n",
       "    <tr>\n",
       "      <th>1</th>\n",
       "      <td>MultinomialNB</td>\n",
       "      <td>0.765375</td>\n",
       "      <td>{'alpha': 0.5, 'fit_prior': True}</td>\n",
       "    </tr>\n",
       "    <tr>\n",
       "      <th>2</th>\n",
       "      <td>logistic_regression</td>\n",
       "      <td>0.832188</td>\n",
       "      <td>{'C': 10, 'solver': 'newton-cg'}</td>\n",
       "    </tr>\n",
       "    <tr>\n",
       "      <th>3</th>\n",
       "      <td>KNeighborsClassifier</td>\n",
       "      <td>0.782563</td>\n",
       "      <td>{'metric': 'euclidean', 'n_neighbors': 23, 'we...</td>\n",
       "    </tr>\n",
       "  </tbody>\n",
       "</table>\n",
       "</div>"
      ],
      "text/plain": [
       "                  model  best_score  \\\n",
       "0             LinearSVC    0.830562   \n",
       "1         MultinomialNB    0.765375   \n",
       "2   logistic_regression    0.832188   \n",
       "3  KNeighborsClassifier    0.782563   \n",
       "\n",
       "                                         best_params  \n",
       "0                                           {'C': 1}  \n",
       "1                  {'alpha': 0.5, 'fit_prior': True}  \n",
       "2                   {'C': 10, 'solver': 'newton-cg'}  \n",
       "3  {'metric': 'euclidean', 'n_neighbors': 23, 'we...  "
      ]
     },
     "execution_count": 29,
     "metadata": {},
     "output_type": "execute_result"
    }
   ],
   "source": [
    "scores = []\n",
    "\n",
    "for model_name, mp in model_params.items():\n",
    "    clf =  GridSearchCV(mp['model'], mp['params'], cv=5, return_train_score=False)\n",
    "    clf.fit(X_train, y_train)\n",
    "    scores.append({\n",
    "        'model': model_name,\n",
    "        'best_score': clf.best_score_,\n",
    "        'best_params': clf.best_params_\n",
    "    })\n",
    "    \n",
    "df4 = pd.DataFrame(scores,columns=['model','best_score','best_params'])\n",
    "df4"
   ]
  },
  {
   "cell_type": "markdown",
   "id": "4c55b308",
   "metadata": {
    "papermill": {
     "duration": 0.040046,
     "end_time": "2021-11-02T06:57:03.534348",
     "exception": false,
     "start_time": "2021-11-02T06:57:03.494302",
     "status": "completed"
    },
    "tags": []
   },
   "source": [
    "# KNN"
   ]
  },
  {
   "cell_type": "code",
   "execution_count": 30,
   "id": "d27c68e6",
   "metadata": {
    "execution": {
     "iopub.execute_input": "2021-11-02T06:57:03.620428Z",
     "iopub.status.busy": "2021-11-02T06:57:03.619547Z",
     "iopub.status.idle": "2021-11-02T06:57:03.626717Z",
     "shell.execute_reply": "2021-11-02T06:57:03.626294Z",
     "shell.execute_reply.started": "2021-11-01T15:27:53.020368Z"
    },
    "id": "795234ec",
    "outputId": "954e8331-8ed6-4668-b96b-ee4aaa9011ca",
    "papermill": {
     "duration": 0.051332,
     "end_time": "2021-11-02T06:57:03.626855",
     "exception": false,
     "start_time": "2021-11-02T06:57:03.575523",
     "status": "completed"
    },
    "tags": []
   },
   "outputs": [
    {
     "data": {
      "text/plain": [
       "KNeighborsClassifier(metric='euclidean', n_neighbors=23, weights='distance')"
      ]
     },
     "execution_count": 30,
     "metadata": {},
     "output_type": "execute_result"
    }
   ],
   "source": [
    "model1= KNeighborsClassifier(n_neighbors=23, metric='euclidean',weights = 'distance')  \n",
    "model1.fit(X_train, y_train)  "
   ]
  },
  {
   "cell_type": "code",
   "execution_count": 31,
   "id": "5d3efc55",
   "metadata": {
    "execution": {
     "iopub.execute_input": "2021-11-02T06:57:03.713846Z",
     "iopub.status.busy": "2021-11-02T06:57:03.712872Z",
     "iopub.status.idle": "2021-11-02T06:57:12.031675Z",
     "shell.execute_reply": "2021-11-02T06:57:12.032215Z",
     "shell.execute_reply.started": "2021-11-01T15:27:57.269936Z"
    },
    "id": "96298cc5",
    "papermill": {
     "duration": 8.365752,
     "end_time": "2021-11-02T06:57:12.032402",
     "exception": false,
     "start_time": "2021-11-02T06:57:03.666650",
     "status": "completed"
    },
    "scrolled": true,
    "tags": []
   },
   "outputs": [],
   "source": [
    "predictions_test = model1.predict(X_test)\n",
    "predictions_train = model1.predict(X_train)\n",
    "temp = ['KNeighborsClassifier']\n",
    "temp.append(accuracy_score(predictions_train,y_train))\n",
    "temp.append(recall_score(predictions_train,y_train))\n",
    "temp.append(f1_score(predictions_train,y_train))\n",
    "temp.append(precision_score(predictions_train,y_train))\n",
    "temp.append(accuracy_score(predictions_test,y_test))\n",
    "temp.append(recall_score(predictions_test,y_test))\n",
    "temp.append(f1_score(predictions_test,y_test))\n",
    "temp.append(precision_score(predictions_test,y_test))\n",
    "data.append(temp)"
   ]
  },
  {
   "cell_type": "code",
   "execution_count": 32,
   "id": "6dce3f3d",
   "metadata": {
    "execution": {
     "iopub.execute_input": "2021-11-02T06:57:12.119421Z",
     "iopub.status.busy": "2021-11-02T06:57:12.118597Z",
     "iopub.status.idle": "2021-11-02T06:57:12.127392Z",
     "shell.execute_reply": "2021-11-02T06:57:12.127840Z"
    },
    "id": "ca78da6d",
    "outputId": "a7e71bff-3940-4cf0-9924-f313f1d89042",
    "papermill": {
     "duration": 0.05303,
     "end_time": "2021-11-02T06:57:12.127983",
     "exception": false,
     "start_time": "2021-11-02T06:57:12.074953",
     "status": "completed"
    },
    "tags": []
   },
   "outputs": [
    {
     "name": "stdout",
     "output_type": "stream",
     "text": [
      "[[1678   80]\n",
      " [ 746 1497]]\n"
     ]
    }
   ],
   "source": [
    "confusion = confusion_matrix(predictions_test,y_test)\n",
    "print(confusion)"
   ]
  },
  {
   "cell_type": "markdown",
   "id": "acbe49c7",
   "metadata": {
    "papermill": {
     "duration": 0.03968,
     "end_time": "2021-11-02T06:57:12.209101",
     "exception": false,
     "start_time": "2021-11-02T06:57:12.169421",
     "status": "completed"
    },
    "tags": []
   },
   "source": [
    "# Logistic Regression"
   ]
  },
  {
   "cell_type": "code",
   "execution_count": 33,
   "id": "66d668c4",
   "metadata": {
    "execution": {
     "iopub.execute_input": "2021-11-02T06:57:12.293686Z",
     "iopub.status.busy": "2021-11-02T06:57:12.292923Z",
     "iopub.status.idle": "2021-11-02T06:57:13.962595Z",
     "shell.execute_reply": "2021-11-02T06:57:13.963692Z"
    },
    "id": "f7215ac4",
    "papermill": {
     "duration": 1.714448,
     "end_time": "2021-11-02T06:57:13.963952",
     "exception": false,
     "start_time": "2021-11-02T06:57:12.249504",
     "status": "completed"
    },
    "tags": []
   },
   "outputs": [
    {
     "data": {
      "text/plain": [
       "LogisticRegression(C=10, max_iter=1000000, multi_class='ovr', random_state=42)"
      ]
     },
     "execution_count": 33,
     "metadata": {},
     "output_type": "execute_result"
    }
   ],
   "source": [
    "model2 = LogisticRegression(C=10, random_state=42, solver='lbfgs', multi_class='ovr',max_iter=1000000)\n",
    "model2.fit(X_train, y_train)"
   ]
  },
  {
   "cell_type": "code",
   "execution_count": 34,
   "id": "63c17797",
   "metadata": {
    "execution": {
     "iopub.execute_input": "2021-11-02T06:57:14.111510Z",
     "iopub.status.busy": "2021-11-02T06:57:14.110532Z",
     "iopub.status.idle": "2021-11-02T06:57:22.434527Z",
     "shell.execute_reply": "2021-11-02T06:57:22.435332Z"
    },
    "id": "315286a9",
    "papermill": {
     "duration": 8.395185,
     "end_time": "2021-11-02T06:57:22.435520",
     "exception": false,
     "start_time": "2021-11-02T06:57:14.040335",
     "status": "completed"
    },
    "tags": []
   },
   "outputs": [],
   "source": [
    "predictions_test = model1.predict(X_test)\n",
    "predictions_train = model1.predict(X_train)\n",
    "temp = ['LogisticRegression']\n",
    "temp.append(accuracy_score(predictions_train,y_train))\n",
    "temp.append(recall_score(predictions_train,y_train))\n",
    "temp.append(f1_score(predictions_train,y_train))\n",
    "temp.append(precision_score(predictions_train,y_train))\n",
    "temp.append(accuracy_score(predictions_test,y_test))\n",
    "temp.append(recall_score(predictions_test,y_test))\n",
    "temp.append(f1_score(predictions_test,y_test))\n",
    "temp.append(precision_score(predictions_test,y_test))\n",
    "data.append(temp)"
   ]
  },
  {
   "cell_type": "code",
   "execution_count": 35,
   "id": "cb2d6daf",
   "metadata": {
    "execution": {
     "iopub.execute_input": "2021-11-02T06:57:22.523456Z",
     "iopub.status.busy": "2021-11-02T06:57:22.522613Z",
     "iopub.status.idle": "2021-11-02T06:57:22.533585Z",
     "shell.execute_reply": "2021-11-02T06:57:22.532973Z"
    },
    "id": "5c1d2f21",
    "papermill": {
     "duration": 0.055537,
     "end_time": "2021-11-02T06:57:22.533730",
     "exception": false,
     "start_time": "2021-11-02T06:57:22.478193",
     "status": "completed"
    },
    "tags": []
   },
   "outputs": [
    {
     "name": "stdout",
     "output_type": "stream",
     "text": [
      "[[1678   80]\n",
      " [ 746 1497]]\n"
     ]
    }
   ],
   "source": [
    "confusion = confusion_matrix(predictions_test,y_test)\n",
    "print(confusion)"
   ]
  },
  {
   "cell_type": "markdown",
   "id": "cd0a6bb7",
   "metadata": {
    "papermill": {
     "duration": 0.04005,
     "end_time": "2021-11-02T06:57:22.614691",
     "exception": false,
     "start_time": "2021-11-02T06:57:22.574641",
     "status": "completed"
    },
    "tags": []
   },
   "source": [
    "# Naive Bayes"
   ]
  },
  {
   "cell_type": "code",
   "execution_count": 36,
   "id": "812c61af",
   "metadata": {
    "execution": {
     "iopub.execute_input": "2021-11-02T06:57:22.701505Z",
     "iopub.status.busy": "2021-11-02T06:57:22.700689Z",
     "iopub.status.idle": "2021-11-02T06:57:22.707468Z",
     "shell.execute_reply": "2021-11-02T06:57:22.707028Z"
    },
    "id": "e6ce5500",
    "papermill": {
     "duration": 0.052958,
     "end_time": "2021-11-02T06:57:22.707579",
     "exception": false,
     "start_time": "2021-11-02T06:57:22.654621",
     "status": "completed"
    },
    "tags": []
   },
   "outputs": [
    {
     "data": {
      "text/plain": [
       "MultinomialNB(alpha=0.5, fit_prior='True')"
      ]
     },
     "execution_count": 36,
     "metadata": {},
     "output_type": "execute_result"
    }
   ],
   "source": [
    "model3 = MultinomialNB(alpha = 0.5, fit_prior = 'True')\n",
    "model3.fit(X_train, y_train)"
   ]
  },
  {
   "cell_type": "code",
   "execution_count": 37,
   "id": "464a74ae",
   "metadata": {
    "execution": {
     "iopub.execute_input": "2021-11-02T06:57:22.797133Z",
     "iopub.status.busy": "2021-11-02T06:57:22.796080Z",
     "iopub.status.idle": "2021-11-02T06:57:22.823299Z",
     "shell.execute_reply": "2021-11-02T06:57:22.822853Z"
    },
    "id": "87a23fda",
    "papermill": {
     "duration": 0.074767,
     "end_time": "2021-11-02T06:57:22.823407",
     "exception": false,
     "start_time": "2021-11-02T06:57:22.748640",
     "status": "completed"
    },
    "tags": []
   },
   "outputs": [],
   "source": [
    "predictions_test = model2.predict(X_test)\n",
    "predictions_train = model2.predict(X_train)\n",
    "temp = ['MultinomialNB']\n",
    "temp.append(accuracy_score(predictions_train,y_train))\n",
    "temp.append(recall_score(predictions_train,y_train))\n",
    "temp.append(f1_score(predictions_train,y_train))\n",
    "temp.append(precision_score(predictions_train,y_train))\n",
    "temp.append(accuracy_score(predictions_test,y_test))\n",
    "temp.append(recall_score(predictions_test,y_test))\n",
    "temp.append(f1_score(predictions_test,y_test))\n",
    "temp.append(precision_score(predictions_test,y_test))\n",
    "data.append(temp)"
   ]
  },
  {
   "cell_type": "code",
   "execution_count": 38,
   "id": "3a20e94d",
   "metadata": {
    "execution": {
     "iopub.execute_input": "2021-11-02T06:57:22.913327Z",
     "iopub.status.busy": "2021-11-02T06:57:22.912593Z",
     "iopub.status.idle": "2021-11-02T06:57:22.918803Z",
     "shell.execute_reply": "2021-11-02T06:57:22.918190Z"
    },
    "id": "90aa5df8",
    "papermill": {
     "duration": 0.054736,
     "end_time": "2021-11-02T06:57:22.918947",
     "exception": false,
     "start_time": "2021-11-02T06:57:22.864211",
     "status": "completed"
    },
    "tags": []
   },
   "outputs": [
    {
     "name": "stdout",
     "output_type": "stream",
     "text": [
      "[[1983  163]\n",
      " [ 441 1414]]\n"
     ]
    }
   ],
   "source": [
    "confusion = confusion_matrix(predictions_test,y_test)\n",
    "print(confusion)"
   ]
  },
  {
   "cell_type": "markdown",
   "id": "ac340f14",
   "metadata": {
    "papermill": {
     "duration": 0.04161,
     "end_time": "2021-11-02T06:57:23.003085",
     "exception": false,
     "start_time": "2021-11-02T06:57:22.961475",
     "status": "completed"
    },
    "tags": []
   },
   "source": [
    "# Linear SVC"
   ]
  },
  {
   "cell_type": "code",
   "execution_count": 39,
   "id": "a7bb86d2",
   "metadata": {
    "execution": {
     "iopub.execute_input": "2021-11-02T06:57:23.093504Z",
     "iopub.status.busy": "2021-11-02T06:57:23.092649Z",
     "iopub.status.idle": "2021-11-02T06:57:23.542859Z",
     "shell.execute_reply": "2021-11-02T06:57:23.543306Z"
    },
    "id": "0f220557",
    "papermill": {
     "duration": 0.498031,
     "end_time": "2021-11-02T06:57:23.543447",
     "exception": false,
     "start_time": "2021-11-02T06:57:23.045416",
     "status": "completed"
    },
    "tags": []
   },
   "outputs": [
    {
     "data": {
      "text/plain": [
       "LinearSVC(C=1, max_iter=1000000, random_state=42)"
      ]
     },
     "execution_count": 39,
     "metadata": {},
     "output_type": "execute_result"
    }
   ],
   "source": [
    "model4 = LinearSVC(C = 1, max_iter=1000000,random_state=42)\n",
    "model4.fit(X_train, y_train)"
   ]
  },
  {
   "cell_type": "code",
   "execution_count": 40,
   "id": "b0bebbce",
   "metadata": {
    "execution": {
     "iopub.execute_input": "2021-11-02T06:57:23.633438Z",
     "iopub.status.busy": "2021-11-02T06:57:23.632586Z",
     "iopub.status.idle": "2021-11-02T06:57:23.660469Z",
     "shell.execute_reply": "2021-11-02T06:57:23.660049Z"
    },
    "id": "57f277ab",
    "papermill": {
     "duration": 0.075293,
     "end_time": "2021-11-02T06:57:23.660584",
     "exception": false,
     "start_time": "2021-11-02T06:57:23.585291",
     "status": "completed"
    },
    "tags": []
   },
   "outputs": [],
   "source": [
    "predictions_test = model3.predict(X_test)\n",
    "predictions_train = model3.predict(X_train)\n",
    "temp = ['LinearSVC']\n",
    "temp.append(accuracy_score(predictions_train,y_train))\n",
    "temp.append(recall_score(predictions_train,y_train))\n",
    "temp.append(f1_score(predictions_train,y_train))\n",
    "temp.append(precision_score(predictions_train,y_train))\n",
    "temp.append(accuracy_score(predictions_test,y_test))\n",
    "temp.append(recall_score(predictions_test,y_test))\n",
    "temp.append(f1_score(predictions_test,y_test))\n",
    "temp.append(precision_score(predictions_test,y_test))\n",
    "data.append(temp)"
   ]
  },
  {
   "cell_type": "code",
   "execution_count": 41,
   "id": "48d4f728",
   "metadata": {
    "execution": {
     "iopub.execute_input": "2021-11-02T06:57:23.748859Z",
     "iopub.status.busy": "2021-11-02T06:57:23.748083Z",
     "iopub.status.idle": "2021-11-02T06:57:23.757839Z",
     "shell.execute_reply": "2021-11-02T06:57:23.758773Z"
    },
    "id": "214eea79",
    "papermill": {
     "duration": 0.056649,
     "end_time": "2021-11-02T06:57:23.758986",
     "exception": false,
     "start_time": "2021-11-02T06:57:23.702337",
     "status": "completed"
    },
    "tags": []
   },
   "outputs": [
    {
     "name": "stdout",
     "output_type": "stream",
     "text": [
      "[[1986  370]\n",
      " [ 438 1207]]\n"
     ]
    }
   ],
   "source": [
    "confusion = confusion_matrix(predictions_test,y_test)\n",
    "print(confusion)"
   ]
  },
  {
   "cell_type": "markdown",
   "id": "9acdd403",
   "metadata": {
    "papermill": {
     "duration": 0.041599,
     "end_time": "2021-11-02T06:57:23.843248",
     "exception": false,
     "start_time": "2021-11-02T06:57:23.801649",
     "status": "completed"
    },
    "tags": []
   },
   "source": [
    "# Summary"
   ]
  },
  {
   "cell_type": "code",
   "execution_count": 42,
   "id": "36f4ca91",
   "metadata": {
    "execution": {
     "iopub.execute_input": "2021-11-02T06:57:23.934165Z",
     "iopub.status.busy": "2021-11-02T06:57:23.933487Z",
     "iopub.status.idle": "2021-11-02T06:57:23.937090Z",
     "shell.execute_reply": "2021-11-02T06:57:23.936477Z"
    },
    "id": "10bab3d4",
    "papermill": {
     "duration": 0.051451,
     "end_time": "2021-11-02T06:57:23.937209",
     "exception": false,
     "start_time": "2021-11-02T06:57:23.885758",
     "status": "completed"
    },
    "tags": []
   },
   "outputs": [],
   "source": [
    "result = pd.DataFrame(data, columns = ['Algorithm','Accuracy Score : Train', 'Recall Score : Train','F1-Score :Train','Precision Score :Train','Accuracy Score : Test', 'Recall Score : Test','F1-Score : Test','Precision Score : Test'])\n",
    "result.reset_index(drop=True, inplace=True)"
   ]
  },
  {
   "cell_type": "code",
   "execution_count": 43,
   "id": "5e78070e",
   "metadata": {
    "execution": {
     "iopub.execute_input": "2021-11-02T06:57:24.030324Z",
     "iopub.status.busy": "2021-11-02T06:57:24.029487Z",
     "iopub.status.idle": "2021-11-02T06:57:24.041623Z",
     "shell.execute_reply": "2021-11-02T06:57:24.041186Z"
    },
    "id": "5362f3b6",
    "papermill": {
     "duration": 0.059941,
     "end_time": "2021-11-02T06:57:24.041735",
     "exception": false,
     "start_time": "2021-11-02T06:57:23.981794",
     "status": "completed"
    },
    "tags": []
   },
   "outputs": [
    {
     "data": {
      "text/html": [
       "<div>\n",
       "<style scoped>\n",
       "    .dataframe tbody tr th:only-of-type {\n",
       "        vertical-align: middle;\n",
       "    }\n",
       "\n",
       "    .dataframe tbody tr th {\n",
       "        vertical-align: top;\n",
       "    }\n",
       "\n",
       "    .dataframe thead th {\n",
       "        text-align: right;\n",
       "    }\n",
       "</style>\n",
       "<table border=\"1\" class=\"dataframe\">\n",
       "  <thead>\n",
       "    <tr style=\"text-align: right;\">\n",
       "      <th></th>\n",
       "      <th>Algorithm</th>\n",
       "      <th>Accuracy Score : Train</th>\n",
       "      <th>Recall Score : Train</th>\n",
       "      <th>F1-Score :Train</th>\n",
       "      <th>Precision Score :Train</th>\n",
       "      <th>Accuracy Score : Test</th>\n",
       "      <th>Recall Score : Test</th>\n",
       "      <th>F1-Score : Test</th>\n",
       "      <th>Precision Score : Test</th>\n",
       "    </tr>\n",
       "  </thead>\n",
       "  <tbody>\n",
       "    <tr>\n",
       "      <th>0</th>\n",
       "      <td>KNeighborsClassifier</td>\n",
       "      <td>0.993625</td>\n",
       "      <td>0.989482</td>\n",
       "      <td>0.991853</td>\n",
       "      <td>0.994235</td>\n",
       "      <td>0.793552</td>\n",
       "      <td>0.667410</td>\n",
       "      <td>0.783770</td>\n",
       "      <td>0.949271</td>\n",
       "    </tr>\n",
       "    <tr>\n",
       "      <th>1</th>\n",
       "      <td>LogisticRegression</td>\n",
       "      <td>0.993625</td>\n",
       "      <td>0.989482</td>\n",
       "      <td>0.991853</td>\n",
       "      <td>0.994235</td>\n",
       "      <td>0.793552</td>\n",
       "      <td>0.667410</td>\n",
       "      <td>0.783770</td>\n",
       "      <td>0.949271</td>\n",
       "    </tr>\n",
       "    <tr>\n",
       "      <th>2</th>\n",
       "      <td>MultinomialNB</td>\n",
       "      <td>0.964187</td>\n",
       "      <td>0.956683</td>\n",
       "      <td>0.953994</td>\n",
       "      <td>0.951321</td>\n",
       "      <td>0.849038</td>\n",
       "      <td>0.762264</td>\n",
       "      <td>0.824009</td>\n",
       "      <td>0.896639</td>\n",
       "    </tr>\n",
       "    <tr>\n",
       "      <th>3</th>\n",
       "      <td>LinearSVC</td>\n",
       "      <td>0.893938</td>\n",
       "      <td>0.873767</td>\n",
       "      <td>0.862357</td>\n",
       "      <td>0.851241</td>\n",
       "      <td>0.798050</td>\n",
       "      <td>0.733739</td>\n",
       "      <td>0.749224</td>\n",
       "      <td>0.765377</td>\n",
       "    </tr>\n",
       "  </tbody>\n",
       "</table>\n",
       "</div>"
      ],
      "text/plain": [
       "              Algorithm  Accuracy Score : Train  Recall Score : Train  \\\n",
       "0  KNeighborsClassifier                0.993625              0.989482   \n",
       "1    LogisticRegression                0.993625              0.989482   \n",
       "2         MultinomialNB                0.964187              0.956683   \n",
       "3             LinearSVC                0.893938              0.873767   \n",
       "\n",
       "   F1-Score :Train  Precision Score :Train  Accuracy Score : Test  \\\n",
       "0         0.991853                0.994235               0.793552   \n",
       "1         0.991853                0.994235               0.793552   \n",
       "2         0.953994                0.951321               0.849038   \n",
       "3         0.862357                0.851241               0.798050   \n",
       "\n",
       "   Recall Score : Test  F1-Score : Test  Precision Score : Test  \n",
       "0             0.667410         0.783770                0.949271  \n",
       "1             0.667410         0.783770                0.949271  \n",
       "2             0.762264         0.824009                0.896639  \n",
       "3             0.733739         0.749224                0.765377  "
      ]
     },
     "execution_count": 43,
     "metadata": {},
     "output_type": "execute_result"
    }
   ],
   "source": [
    "result"
   ]
  },
  {
   "cell_type": "markdown",
   "id": "e9addee3",
   "metadata": {
    "papermill": {
     "duration": 0.065623,
     "end_time": "2021-11-02T06:57:24.151689",
     "exception": false,
     "start_time": "2021-11-02T06:57:24.086066",
     "status": "completed"
    },
    "tags": []
   },
   "source": [
    "# Saving models in .pkl file"
   ]
  },
  {
   "cell_type": "code",
   "execution_count": 44,
   "id": "3f500d53",
   "metadata": {
    "execution": {
     "iopub.execute_input": "2021-11-02T06:57:24.302722Z",
     "iopub.status.busy": "2021-11-02T06:57:24.301958Z",
     "iopub.status.idle": "2021-11-02T06:57:24.305633Z",
     "shell.execute_reply": "2021-11-02T06:57:24.306225Z",
     "shell.execute_reply.started": "2021-11-01T13:20:19.618521Z"
    },
    "id": "p4rsfRVZdqXm",
    "papermill": {
     "duration": 0.081877,
     "end_time": "2021-11-02T06:57:24.306428",
     "exception": false,
     "start_time": "2021-11-02T06:57:24.224551",
     "status": "completed"
    },
    "tags": []
   },
   "outputs": [],
   "source": [
    "import pickle\n"
   ]
  },
  {
   "cell_type": "code",
   "execution_count": 45,
   "id": "a21f63d6",
   "metadata": {
    "execution": {
     "iopub.execute_input": "2021-11-02T06:57:24.460690Z",
     "iopub.status.busy": "2021-11-02T06:57:24.459850Z",
     "iopub.status.idle": "2021-11-02T06:57:24.468604Z",
     "shell.execute_reply": "2021-11-02T06:57:24.469574Z",
     "shell.execute_reply.started": "2021-11-01T12:29:11.296352Z"
    },
    "papermill": {
     "duration": 0.087306,
     "end_time": "2021-11-02T06:57:24.469763",
     "exception": false,
     "start_time": "2021-11-02T06:57:24.382457",
     "status": "completed"
    },
    "tags": []
   },
   "outputs": [],
   "source": [
    "pickle_out = open(\"vectorizer.pkl\",\"wb\")\n",
    "pickle.dump(count_vector, pickle_out)\n",
    "pickle_out.close()"
   ]
  },
  {
   "cell_type": "code",
   "execution_count": 46,
   "id": "691fbfb4",
   "metadata": {
    "execution": {
     "iopub.execute_input": "2021-11-02T06:57:24.616169Z",
     "iopub.status.busy": "2021-11-02T06:57:24.610087Z",
     "iopub.status.idle": "2021-11-02T06:57:24.617054Z",
     "shell.execute_reply": "2021-11-02T06:57:24.617661Z"
    },
    "id": "4261b5d8",
    "papermill": {
     "duration": 0.079534,
     "end_time": "2021-11-02T06:57:24.617867",
     "exception": false,
     "start_time": "2021-11-02T06:57:24.538333",
     "status": "completed"
    },
    "tags": []
   },
   "outputs": [],
   "source": [
    "pickle_out = open(\"LinearSVC.pkl\",\"wb\")\n",
    "pickle.dump(model4, pickle_out)\n",
    "pickle_out.close()"
   ]
  },
  {
   "cell_type": "code",
   "execution_count": 47,
   "id": "d23a69c9",
   "metadata": {
    "execution": {
     "iopub.execute_input": "2021-11-02T06:57:24.766032Z",
     "iopub.status.busy": "2021-11-02T06:57:24.765152Z",
     "iopub.status.idle": "2021-11-02T06:57:24.767389Z",
     "shell.execute_reply": "2021-11-02T06:57:24.766730Z"
    },
    "id": "a7559bb4",
    "papermill": {
     "duration": 0.07996,
     "end_time": "2021-11-02T06:57:24.767535",
     "exception": false,
     "start_time": "2021-11-02T06:57:24.687575",
     "status": "completed"
    },
    "tags": []
   },
   "outputs": [],
   "source": [
    "pickle_out = open(\"MultinomialNB.pkl\",\"wb\")\n",
    "pickle.dump(model3, pickle_out)\n",
    "pickle_out.close()"
   ]
  },
  {
   "cell_type": "code",
   "execution_count": 48,
   "id": "45cef655",
   "metadata": {
    "execution": {
     "iopub.execute_input": "2021-11-02T06:57:24.914929Z",
     "iopub.status.busy": "2021-11-02T06:57:24.914053Z",
     "iopub.status.idle": "2021-11-02T06:57:24.916265Z",
     "shell.execute_reply": "2021-11-02T06:57:24.915625Z"
    },
    "id": "TuI5hWEwZpef",
    "papermill": {
     "duration": 0.079147,
     "end_time": "2021-11-02T06:57:24.916422",
     "exception": false,
     "start_time": "2021-11-02T06:57:24.837275",
     "status": "completed"
    },
    "tags": []
   },
   "outputs": [],
   "source": [
    "pickle_out = open(\"LogisticRegression.pkl\",\"wb\")\n",
    "pickle.dump(model2, pickle_out)\n",
    "pickle_out.close()"
   ]
  },
  {
   "cell_type": "code",
   "execution_count": 49,
   "id": "23a1e0e4",
   "metadata": {
    "execution": {
     "iopub.execute_input": "2021-11-02T06:57:25.068417Z",
     "iopub.status.busy": "2021-11-02T06:57:25.066063Z",
     "iopub.status.idle": "2021-11-02T06:57:25.069273Z",
     "shell.execute_reply": "2021-11-02T06:57:25.069892Z"
    },
    "id": "pRIzmhCTZqRl",
    "papermill": {
     "duration": 0.083268,
     "end_time": "2021-11-02T06:57:25.070084",
     "exception": false,
     "start_time": "2021-11-02T06:57:24.986816",
     "status": "completed"
    },
    "tags": []
   },
   "outputs": [],
   "source": [
    "pickle_out = open(\"KNeighborsClassifier.pkl\",\"wb\")\n",
    "pickle.dump(model1, pickle_out)\n",
    "pickle_out.close()"
   ]
  },
  {
   "cell_type": "code",
   "execution_count": null,
   "id": "0b4c4eee",
   "metadata": {
    "papermill": {
     "duration": 0.071627,
     "end_time": "2021-11-02T06:57:25.212751",
     "exception": false,
     "start_time": "2021-11-02T06:57:25.141124",
     "status": "completed"
    },
    "tags": []
   },
   "outputs": [],
   "source": []
  }
 ],
 "metadata": {
  "kernelspec": {
   "display_name": "Python 3",
   "language": "python",
   "name": "python3"
  },
  "language_info": {
   "codemirror_mode": {
    "name": "ipython",
    "version": 3
   },
   "file_extension": ".py",
   "mimetype": "text/x-python",
   "name": "python",
   "nbconvert_exporter": "python",
   "pygments_lexer": "ipython3",
   "version": "3.7.10"
  },
  "papermill": {
   "default_parameters": {},
   "duration": 347.528274,
   "end_time": "2021-11-02T06:57:26.071931",
   "environment_variables": {},
   "exception": null,
   "input_path": "__notebook__.ipynb",
   "output_path": "__notebook__.ipynb",
   "parameters": {},
   "start_time": "2021-11-02T06:51:38.543657",
   "version": "2.3.3"
  }
 },
 "nbformat": 4,
 "nbformat_minor": 5
}
